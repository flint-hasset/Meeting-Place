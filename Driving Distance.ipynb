{
 "cells": [
  {
   "cell_type": "code",
   "execution_count": 351,
   "metadata": {},
   "outputs": [],
   "source": [
    "#pip install pgeocode"
   ]
  },
  {
   "cell_type": "code",
   "execution_count": 1,
   "metadata": {},
   "outputs": [],
   "source": [
    "import pgeocode"
   ]
  },
  {
   "cell_type": "code",
   "execution_count": 325,
   "metadata": {},
   "outputs": [],
   "source": [
    "import pandas as pd\n",
    "import numpy as np\n",
    "import requests\n",
    "import json\n",
    "import datetime\n",
    "import random\n",
    "import timeit\n",
    "import time\n",
    "import matplotlib.pyplot as plt\n",
    "%matplotlib inline"
   ]
  },
  {
   "cell_type": "code",
   "execution_count": 396,
   "metadata": {},
   "outputs": [],
   "source": [
    "plt.rcParams[\"figure.figsize\"] = (5,6)"
   ]
  },
  {
   "cell_type": "code",
   "execution_count": 355,
   "metadata": {},
   "outputs": [
    {
     "data": {
      "text/html": [
       "<div>\n",
       "<style scoped>\n",
       "    .dataframe tbody tr th:only-of-type {\n",
       "        vertical-align: middle;\n",
       "    }\n",
       "\n",
       "    .dataframe tbody tr th {\n",
       "        vertical-align: top;\n",
       "    }\n",
       "\n",
       "    .dataframe thead th {\n",
       "        text-align: right;\n",
       "    }\n",
       "</style>\n",
       "<table border=\"1\" class=\"dataframe\">\n",
       "  <thead>\n",
       "    <tr style=\"text-align: right;\">\n",
       "      <th></th>\n",
       "      <th>0</th>\n",
       "      <th>1</th>\n",
       "    </tr>\n",
       "  </thead>\n",
       "  <tbody>\n",
       "    <tr>\n",
       "      <th>0</th>\n",
       "      <td>33.90172</td>\n",
       "      <td>-85.38658</td>\n",
       "    </tr>\n",
       "    <tr>\n",
       "      <th>1</th>\n",
       "      <td>34.00010</td>\n",
       "      <td>-85.40592</td>\n",
       "    </tr>\n",
       "  </tbody>\n",
       "</table>\n",
       "</div>"
      ],
      "text/plain": [
       "          0         1\n",
       "0  33.90172 -85.38658\n",
       "1  34.00010 -85.40592"
      ]
     },
     "execution_count": 355,
     "metadata": {},
     "output_type": "execute_result"
    }
   ],
   "source": [
    "### Import Georgia Boundaries\n",
    "ga = pd.read_csv(r'\\\\CPFSPRDAPAWSE01\\userdata$\\shilts\\Documents\\Personal\\ga.csv', header=None)\n",
    "ga.head(2)"
   ]
  },
  {
   "cell_type": "markdown",
   "metadata": {},
   "source": [
    "### Import addresses"
   ]
  },
  {
   "cell_type": "code",
   "execution_count": 4,
   "metadata": {},
   "outputs": [],
   "source": [
    "# df = pd.read_csv(r'\\\\CPFSPRDAPAWSE01\\userdata$\\shilts\\Documents\\Personal\\Council Addresses.csv')\n",
    "# df['Zip5'] = df['Zip'].apply(lambda x: str(x)[:5])\n",
    "# df.tail()"
   ]
  },
  {
   "cell_type": "markdown",
   "metadata": {},
   "source": [
    "### Zips to Lat_Lon"
   ]
  },
  {
   "cell_type": "code",
   "execution_count": 4,
   "metadata": {},
   "outputs": [],
   "source": [
    "def lat_lon(zip5):\n",
    "    lat_lon = nomi.query_postal_code(zip5)\n",
    "    return lat_lon['latitude'],lat_lon['longitude']\n"
   ]
  },
  {
   "cell_type": "code",
   "execution_count": null,
   "metadata": {},
   "outputs": [],
   "source": [
    "# nomi = pgeocode.Nominatim('us')\n",
    "# df['lat_lon'] = df['Zip5'].apply(lambda x: lat_lon(x))\n",
    "# df.to_csv(r'\\\\CPFSPRDAPAWSE01\\userdata$\\shilts\\Documents\\Personal\\Council Addresses w Lat.csv')"
   ]
  },
  {
   "cell_type": "markdown",
   "metadata": {},
   "source": [
    "### Define distance calculation"
   ]
  },
  {
   "cell_type": "code",
   "execution_count": 3,
   "metadata": {},
   "outputs": [
    {
     "data": {
      "text/html": [
       "<div>\n",
       "<style scoped>\n",
       "    .dataframe tbody tr th:only-of-type {\n",
       "        vertical-align: middle;\n",
       "    }\n",
       "\n",
       "    .dataframe tbody tr th {\n",
       "        vertical-align: top;\n",
       "    }\n",
       "\n",
       "    .dataframe thead th {\n",
       "        text-align: right;\n",
       "    }\n",
       "</style>\n",
       "<table border=\"1\" class=\"dataframe\">\n",
       "  <thead>\n",
       "    <tr style=\"text-align: right;\">\n",
       "      <th></th>\n",
       "      <th>Unnamed: 0</th>\n",
       "      <th>lngCouncil</th>\n",
       "      <th>calCouncil</th>\n",
       "      <th>Address</th>\n",
       "      <th>City</th>\n",
       "      <th>State</th>\n",
       "      <th>Zip</th>\n",
       "      <th>Zip5</th>\n",
       "      <th>lat_lon</th>\n",
       "      <th>lat</th>\n",
       "      <th>lon</th>\n",
       "    </tr>\n",
       "  </thead>\n",
       "  <tbody>\n",
       "    <tr>\n",
       "      <th>0</th>\n",
       "      <td>0</td>\n",
       "      <td>15996</td>\n",
       "      <td>St. John Paul II Council 15996</td>\n",
       "      <td>6301 Cedarcrest Road</td>\n",
       "      <td>Acworth</td>\n",
       "      <td>GA</td>\n",
       "      <td>30101</td>\n",
       "      <td>30101</td>\n",
       "      <td>(34.0756, -84.6477)</td>\n",
       "      <td>34.0756</td>\n",
       "      <td>-84.6477</td>\n",
       "    </tr>\n",
       "    <tr>\n",
       "      <th>1</th>\n",
       "      <td>1</td>\n",
       "      <td>3607</td>\n",
       "      <td>Msgr. Daniel J. Bourke Council 3607</td>\n",
       "      <td>421 Edgewood Lane</td>\n",
       "      <td>Albany</td>\n",
       "      <td>GA</td>\n",
       "      <td>31707-3909</td>\n",
       "      <td>31707</td>\n",
       "      <td>(31.5789, -84.2118)</td>\n",
       "      <td>31.5789</td>\n",
       "      <td>-84.2118</td>\n",
       "    </tr>\n",
       "    <tr>\n",
       "      <th>2</th>\n",
       "      <td>2</td>\n",
       "      <td>6532</td>\n",
       "      <td>St. Thomas Aquinas Council 6532</td>\n",
       "      <td>535 Rucker Road</td>\n",
       "      <td>Alpharetta</td>\n",
       "      <td>GA</td>\n",
       "      <td>30004-4048</td>\n",
       "      <td>30004</td>\n",
       "      <td>(34.1124, -84.302)</td>\n",
       "      <td>34.1124</td>\n",
       "      <td>-84.3020</td>\n",
       "    </tr>\n",
       "    <tr>\n",
       "      <th>3</th>\n",
       "      <td>3</td>\n",
       "      <td>7113</td>\n",
       "      <td>Americus Council 7113</td>\n",
       "      <td>332 South Lee Street</td>\n",
       "      <td>Americus</td>\n",
       "      <td>GA</td>\n",
       "      <td>31709-3916</td>\n",
       "      <td>31709</td>\n",
       "      <td>(32.0404, -84.2153)</td>\n",
       "      <td>32.0404</td>\n",
       "      <td>-84.2153</td>\n",
       "    </tr>\n",
       "    <tr>\n",
       "      <th>4</th>\n",
       "      <td>4</td>\n",
       "      <td>6514</td>\n",
       "      <td>Deacon William P. Lakin Council 6514</td>\n",
       "      <td>958 Epps Bridge Parkway</td>\n",
       "      <td>Athens</td>\n",
       "      <td>GA</td>\n",
       "      <td>30606</td>\n",
       "      <td>30606</td>\n",
       "      <td>(33.9461, -83.41799999999998)</td>\n",
       "      <td>33.9461</td>\n",
       "      <td>-83.4180</td>\n",
       "    </tr>\n",
       "  </tbody>\n",
       "</table>\n",
       "</div>"
      ],
      "text/plain": [
       "   Unnamed: 0  lngCouncil                            calCouncil  \\\n",
       "0           0       15996        St. John Paul II Council 15996   \n",
       "1           1        3607   Msgr. Daniel J. Bourke Council 3607   \n",
       "2           2        6532       St. Thomas Aquinas Council 6532   \n",
       "3           3        7113                 Americus Council 7113   \n",
       "4           4        6514  Deacon William P. Lakin Council 6514   \n",
       "\n",
       "                   Address         City State         Zip   Zip5  \\\n",
       "0     6301 Cedarcrest Road      Acworth    GA       30101  30101   \n",
       "1        421 Edgewood Lane       Albany    GA  31707-3909  31707   \n",
       "2          535 Rucker Road   Alpharetta    GA  30004-4048  30004   \n",
       "3     332 South Lee Street     Americus    GA  31709-3916  31709   \n",
       "4  958 Epps Bridge Parkway       Athens    GA       30606  30606   \n",
       "\n",
       "                         lat_lon      lat      lon  \n",
       "0            (34.0756, -84.6477)  34.0756 -84.6477  \n",
       "1            (31.5789, -84.2118)  31.5789 -84.2118  \n",
       "2             (34.1124, -84.302)  34.1124 -84.3020  \n",
       "3            (32.0404, -84.2153)  32.0404 -84.2153  \n",
       "4  (33.9461, -83.41799999999998)  33.9461 -83.4180  "
      ]
     },
     "execution_count": 3,
     "metadata": {},
     "output_type": "execute_result"
    }
   ],
   "source": [
    "df = pd.read_csv(r'\\\\CPFSPRDAPAWSE01\\userdata$\\shilts\\Documents\\Personal\\Council Addresses w Lat.csv')\n",
    "df['lat'] = df['lat_lon'].apply(lambda x: float(x[1:-1].split(',')[0]))\n",
    "df['lon'] = df['lat_lon'].apply(lambda x: float(x[1:-1].split(',')[1]))\n",
    "\n",
    "df.head()"
   ]
  },
  {
   "cell_type": "code",
   "execution_count": 5,
   "metadata": {},
   "outputs": [],
   "source": [
    "def get_distance(a,b):\n",
    "    r = requests.get(f\"http://router.project-osrm.org/route/v1/car/{a[1]},{a[0]};{b[1]},{b[0]}?overview=false\"\"\")\n",
    "    routes = json.loads(r.content)\n",
    "    route_1 = routes.get(\"routes\")[0]\n",
    "    return route_1[\"duration\"]/3600"
   ]
  },
  {
   "cell_type": "code",
   "execution_count": 6,
   "metadata": {},
   "outputs": [],
   "source": [
    "def get_distance(lat1, lon1, lat2, lon2):\n",
    "    r = requests.get(f\"http://router.project-osrm.org/route/v1/car/{lon1},{lat1};{lon2},{lat2}?overview=false\"\"\")\n",
    "    routes = json.loads(r.content)\n",
    "    route_1 = routes.get(\"routes\")[0]\n",
    "    return route_1[\"duration\"]/3600"
   ]
  },
  {
   "cell_type": "markdown",
   "metadata": {},
   "source": [
    "Test if the get_distance works! "
   ]
  },
  {
   "cell_type": "code",
   "execution_count": 208,
   "metadata": {},
   "outputs": [
    {
     "data": {
      "text/plain": [
       "0.753361111111111"
      ]
     },
     "execution_count": 208,
     "metadata": {},
     "output_type": "execute_result"
    }
   ],
   "source": [
    "lat1 = df['lat'][0]\n",
    "lon1 = df['lon'][0]\n",
    "lat2 = df['lat'][2]\n",
    "lon2 = df['lon'][2]\n",
    "\n",
    "get_distance(lat1, lon1, lat2, lon2)"
   ]
  },
  {
   "cell_type": "markdown",
   "metadata": {},
   "source": [
    "### Create pairs of Lat/Lon to test"
   ]
  },
  {
   "cell_type": "markdown",
   "metadata": {},
   "source": [
    "First, test on small set. Start with group of 5. "
   ]
  },
  {
   "cell_type": "code",
   "execution_count": 215,
   "metadata": {},
   "outputs": [
    {
     "name": "stdout",
     "output_type": "stream",
     "text": [
      "6441\n"
     ]
    }
   ],
   "source": [
    "test_list = []\n",
    "items = 114\n",
    "\n",
    "for x in range(items):\n",
    "    for y in range(x+1,items):\n",
    "        test_list.append([x,y])\n",
    "print(len(test_list))"
   ]
  },
  {
   "cell_type": "code",
   "execution_count": 212,
   "metadata": {},
   "outputs": [],
   "source": [
    "def get_distance_mock(lat1, lon1, lat2, lon2):\n",
    "    return random.randint(1,5)*(np.abs(lat1-lat2)+np.abs(lon1-lon2))"
   ]
  },
  {
   "cell_type": "markdown",
   "metadata": {},
   "source": [
    "### This section uses a sleep to avoid overloading the API. WIll take a while to run!\n",
    "\n",
    "First cell is commented out; this is only needed when running for the first time. Otherwise, call in csv"
   ]
  },
  {
   "cell_type": "code",
   "execution_count": 225,
   "metadata": {},
   "outputs": [],
   "source": [
    "# dist_list = []\n",
    "# counter = 0\n",
    "# for item in test_list:\n",
    "#     counter += 1\n",
    "#     lat1 = df['lat'][item[0]]\n",
    "#     lon1 = df['lon'][item[0]]\n",
    "#     lat2 = df['lat'][item[1]]\n",
    "#     lon2 = df['lon'][item[1]]\n",
    "#     dist_list.append(get_distance(lat1,lon1,lat2,lon2))\n",
    "#     #dist_list.append(get_distance_mock(lat1,lon1,lat2,lon2))\n",
    "#     if counter%100 == 0:\n",
    "#         print(counter)\n",
    "#     time.sleep(.5)"
   ]
  },
  {
   "cell_type": "markdown",
   "metadata": {},
   "source": [
    "### End Sleep Section"
   ]
  },
  {
   "cell_type": "code",
   "execution_count": 352,
   "metadata": {},
   "outputs": [
    {
     "name": "stdout",
     "output_type": "stream",
     "text": [
      "6441\n"
     ]
    }
   ],
   "source": [
    "df_dist = pd.DataFrame(data=[test_list,dist_list]).T\n",
    "df_dist['p1'] = df_dist[0].apply(lambda x: x[0])\n",
    "df_dist['p2'] = df_dist[0].apply(lambda x: x[1])\n",
    "df_dist = df_dist.rename(columns={0:'Pair',1:'Dist'})\n",
    "print(len(df_dist))"
   ]
  },
  {
   "cell_type": "code",
   "execution_count": 353,
   "metadata": {},
   "outputs": [
    {
     "data": {
      "text/html": [
       "<div>\n",
       "<style scoped>\n",
       "    .dataframe tbody tr th:only-of-type {\n",
       "        vertical-align: middle;\n",
       "    }\n",
       "\n",
       "    .dataframe tbody tr th {\n",
       "        vertical-align: top;\n",
       "    }\n",
       "\n",
       "    .dataframe thead th {\n",
       "        text-align: right;\n",
       "    }\n",
       "</style>\n",
       "<table border=\"1\" class=\"dataframe\">\n",
       "  <thead>\n",
       "    <tr style=\"text-align: right;\">\n",
       "      <th></th>\n",
       "      <th>Unnamed: 0</th>\n",
       "      <th>Pair</th>\n",
       "      <th>Dist</th>\n",
       "      <th>p1</th>\n",
       "      <th>p2</th>\n",
       "    </tr>\n",
       "  </thead>\n",
       "  <tbody>\n",
       "    <tr>\n",
       "      <th>0</th>\n",
       "      <td>0</td>\n",
       "      <td>[0, 1]</td>\n",
       "      <td>4.214250</td>\n",
       "      <td>0</td>\n",
       "      <td>1</td>\n",
       "    </tr>\n",
       "    <tr>\n",
       "      <th>1</th>\n",
       "      <td>1</td>\n",
       "      <td>[0, 2]</td>\n",
       "      <td>0.753361</td>\n",
       "      <td>0</td>\n",
       "      <td>2</td>\n",
       "    </tr>\n",
       "    <tr>\n",
       "      <th>2</th>\n",
       "      <td>2</td>\n",
       "      <td>[0, 3]</td>\n",
       "      <td>3.624861</td>\n",
       "      <td>0</td>\n",
       "      <td>3</td>\n",
       "    </tr>\n",
       "    <tr>\n",
       "      <th>3</th>\n",
       "      <td>3</td>\n",
       "      <td>[0, 4]</td>\n",
       "      <td>1.832861</td>\n",
       "      <td>0</td>\n",
       "      <td>4</td>\n",
       "    </tr>\n",
       "    <tr>\n",
       "      <th>4</th>\n",
       "      <td>4</td>\n",
       "      <td>[0, 5]</td>\n",
       "      <td>1.914083</td>\n",
       "      <td>0</td>\n",
       "      <td>5</td>\n",
       "    </tr>\n",
       "  </tbody>\n",
       "</table>\n",
       "</div>"
      ],
      "text/plain": [
       "   Unnamed: 0    Pair      Dist  p1  p2\n",
       "0           0  [0, 1]  4.214250   0   1\n",
       "1           1  [0, 2]  0.753361   0   2\n",
       "2           2  [0, 3]  3.624861   0   3\n",
       "3           3  [0, 4]  1.832861   0   4\n",
       "4           4  [0, 5]  1.914083   0   5"
      ]
     },
     "execution_count": 353,
     "metadata": {},
     "output_type": "execute_result"
    }
   ],
   "source": [
    "df_dist = pd.read_csv(r'\\\\CPFSPRDAPAWSE01\\userdata$\\shilts\\Documents\\Personal\\Council Addresses Driving Distance.csv')\n",
    "df_dist.head(5)"
   ]
  },
  {
   "cell_type": "code",
   "execution_count": 224,
   "metadata": {},
   "outputs": [],
   "source": [
    "#df_dist.to_csv(r'\\\\CPFSPRDAPAWSE01\\userdata$\\shilts\\Documents\\Personal\\Council Addresses Driving Distance.csv')"
   ]
  },
  {
   "cell_type": "markdown",
   "metadata": {},
   "source": [
    "### Import OR Tool solver. Initial task assumes pre-assigned centroids. This merely optimizes assigned grouping given centroids and costs. (Sample problem initially)\n",
    "\n",
    "https://developers.google.com/optimization/assignment/assignment_example\n",
    "\n",
    "https://developers.google.com/optimization/flow/mincostflow\n",
    "\n",
    "Initially, start with random selection of the starting nodes, and allow OR Tools to optimize given the initial centroid  nodes. This problem should be set up as an 'Assignment' problem, whereby 'workers' (any non-centroid nodes) must be assigned to one of the three 'tasks' (centroid nodes) with cost defined as driving distance between the worker and task (centroid and nodes). \n",
    "\n",
    "Efficient assignation of the centroids will be expored as a future problem."
   ]
  },
  {
   "cell_type": "code",
   "execution_count": 10,
   "metadata": {},
   "outputs": [],
   "source": [
    "#pip install ortools"
   ]
  },
  {
   "cell_type": "code",
   "execution_count": 25,
   "metadata": {},
   "outputs": [],
   "source": [
    "from ortools.linear_solver import pywraplp"
   ]
  },
  {
   "cell_type": "code",
   "execution_count": 366,
   "metadata": {},
   "outputs": [],
   "source": [
    "def run_one_node(nodes = None):\n",
    "    \n",
    "    if nodes == None:\n",
    "        nodes = []\n",
    "\n",
    "        points_list = [x for x in range(max(df_dist['p2']))]\n",
    "        for node in range(3):\n",
    "            choice = random.choice(points_list)\n",
    "            nodes.append(choice)\n",
    "            points_list.remove(choice)\n",
    "\n",
    "\n",
    "    costs = []\n",
    "    for x in range(max(df_dist['p2'])+1):\n",
    "        if x in nodes:\n",
    "            pass\n",
    "        else:\n",
    "            one_costs = []\n",
    "            for y in nodes:\n",
    "                if len(df_dist[(df_dist['p1']==x)&(df_dist['p2']==y)])==0:\n",
    "                    one_costs.append(df_dist[(df_dist['p1']==y)&(df_dist['p2']==x)]['Dist'].values[0])\n",
    "                else:\n",
    "                    one_costs.append(df_dist[(df_dist['p1']==x)&(df_dist['p2']==y)]['Dist'].values[0])\n",
    "            costs.append(one_costs)\n",
    "\n",
    "\n",
    "    num_workers = len(costs)\n",
    "    num_tasks = len(costs[0])\n",
    "\n",
    "\n",
    "    # Create the mip solver with the SCIP backend.\n",
    "    solver = pywraplp.Solver.CreateSolver('SCIP')\n",
    "\n",
    "\n",
    "    # x[i, j] is an array of 0-1 variables, which will be 1\n",
    "    # if worker i is assigned to task j.\n",
    "    x = {}\n",
    "    for i in range(num_workers):\n",
    "        for j in range(num_tasks):\n",
    "            x[i, j] = solver.IntVar(0, 1, '')\n",
    "\n",
    "\n",
    "    # Each worker is assigned to at exactly 1 task.\n",
    "    for i in range(num_workers):\n",
    "        solver.Add(solver.Sum([x[i, j] for j in range(num_tasks)]) == 1)\n",
    "\n",
    "    # Each task is assigned to exactly 2 workers. This is a function of total group size\n",
    "    for j in range(num_tasks):\n",
    "        solver.Add(solver.Sum([x[i, j] for i in range(num_workers)]) == num_workers/num_tasks)\n",
    "\n",
    "    objective_terms = []\n",
    "    for i in range(num_workers):\n",
    "        for j in range(num_tasks):\n",
    "            objective_terms.append(costs[i][j] * x[i, j])\n",
    "    solver.Minimize(solver.Sum(objective_terms))\n",
    "    status = solver.Solve()\n",
    "    return nodes, solver.Objective().Value()\n",
    "\n",
    "\n"
   ]
  },
  {
   "cell_type": "code",
   "execution_count": 364,
   "metadata": {},
   "outputs": [],
   "source": [
    "best_nodes_list = []\n",
    "best_result = 100000000\n",
    "best_nodes = []"
   ]
  },
  {
   "cell_type": "code",
   "execution_count": 398,
   "metadata": {},
   "outputs": [
    {
     "name": "stdout",
     "output_type": "stream",
     "text": [
      "152.07666666666665 [38, 102, 75]\n",
      "149.7346388888889 [38, 71, 83]\n",
      "148.279 [7, 38, 83]\n"
     ]
    }
   ],
   "source": [
    "for x in range(10000):\n",
    "    nodes, cost = run_one_node()\n",
    "    if cost<best_result:\n",
    "        best_result = cost\n",
    "        best_nodes = nodes\n",
    "        print(best_result, nodes)\n",
    "        best_nodes_list.append(nodes)\n",
    "#        plot_best(nodes)"
   ]
  },
  {
   "cell_type": "code",
   "execution_count": 406,
   "metadata": {},
   "outputs": [
    {
     "data": {
      "text/plain": [
       "[[93, 54, 24],\n",
       " [1, 94, 72],\n",
       " [11, 60, 67],\n",
       " [96, 8, 57],\n",
       " [26, 38, 97],\n",
       " [65, 54, 74],\n",
       " [6, 23, 111],\n",
       " [38, 91, 65],\n",
       " [97, 38, 102],\n",
       " [38, 102, 75],\n",
       " [38, 71, 83],\n",
       " [7, 38, 83]]"
      ]
     },
     "execution_count": 406,
     "metadata": {},
     "output_type": "execute_result"
    }
   ],
   "source": [
    "best_nodes_list"
   ]
  },
  {
   "cell_type": "markdown",
   "metadata": {},
   "source": [
    "## Graph results, with colors"
   ]
  },
  {
   "cell_type": "code",
   "execution_count": 385,
   "metadata": {},
   "outputs": [],
   "source": [
    "def plot_best(nodes):\n",
    "    costs = []\n",
    "    for x in range(max(df_dist['p2'])+1):\n",
    "        if x in nodes:\n",
    "            pass\n",
    "        else:\n",
    "            one_costs = []\n",
    "            for y in nodes:\n",
    "                if len(df_dist[(df_dist['p1']==x)&(df_dist['p2']==y)])==0:\n",
    "                    one_costs.append(df_dist[(df_dist['p1']==y)&(df_dist['p2']==x)]['Dist'].values[0])\n",
    "                else:\n",
    "                    one_costs.append(df_dist[(df_dist['p1']==x)&(df_dist['p2']==y)]['Dist'].values[0])\n",
    "            costs.append(one_costs)\n",
    "\n",
    "\n",
    "    num_workers = len(costs)\n",
    "    num_tasks = len(costs[0])\n",
    "\n",
    "\n",
    "    # Create the mip solver with the SCIP backend.\n",
    "    solver = pywraplp.Solver.CreateSolver('SCIP')\n",
    "\n",
    "\n",
    "    # x[i, j] is an array of 0-1 variables, which will be 1\n",
    "    # if worker i is assigned to task j.\n",
    "    x = {}\n",
    "    for i in range(num_workers):\n",
    "        for j in range(num_tasks):\n",
    "            x[i, j] = solver.IntVar(0, 1, '')\n",
    "\n",
    "\n",
    "    # Each worker is assigned to at exactly 1 task.\n",
    "    for i in range(num_workers):\n",
    "        solver.Add(solver.Sum([x[i, j] for j in range(num_tasks)]) == 1)\n",
    "\n",
    "    # Each task is assigned to exactly 2 workers. This is a function of total group size\n",
    "    for j in range(num_tasks):\n",
    "        solver.Add(solver.Sum([x[i, j] for i in range(num_workers)]) == num_workers/num_tasks)\n",
    "\n",
    "    objective_terms = []\n",
    "    for i in range(num_workers):\n",
    "        for j in range(num_tasks):\n",
    "            objective_terms.append(costs[i][j] * x[i, j])\n",
    "    solver.Minimize(solver.Sum(objective_terms))\n",
    "    status = solver.Solve()\n",
    "\n",
    "\n",
    "    if status == pywraplp.Solver.OPTIMAL or status == pywraplp.Solver.FEASIBLE:\n",
    "        assigned = []\n",
    "        for i in range(num_workers):\n",
    "            for j in range(num_tasks):\n",
    "                # Test if x[i,j] is 1 (with tolerance for floating point arithmetic).\n",
    "                if x[i, j].solution_value() > 0.5:\n",
    "                    assigned.append(j)\n",
    "        assignees = [x for x in range(114) if x not in nodes]\n",
    "        df_result = pd.DataFrame(data=[assignees,assigned]).T\n",
    "\n",
    "\n",
    "        df['group'] = df['Unnamed: 0'].apply(lambda x: find_group(x, df_result, nodes))\n",
    "        df.head(5)\n",
    "        \n",
    "        plt.plot(ga[1],ga[0],c='black')\n",
    "\n",
    "        for node in nodes:\n",
    "            dfslice = df[df['group']==node]\n",
    "            plt.scatter(dfslice['lon'], dfslice['lat'], s=50)\n",
    "            plt.scatter(df.iloc[node]['lon'], df.iloc[node]['lat'], c='red', s=150)\n",
    "        print(nodes, round(solver.Objective().Value(),0))\n",
    "        plt.show()\n",
    "        \n",
    "        \n",
    "        return df_result"
   ]
  },
  {
   "cell_type": "code",
   "execution_count": 401,
   "metadata": {},
   "outputs": [],
   "source": [
    "def find_group(loc_id, df_result, nodes):\n",
    "    try:\n",
    "        val = nodes[df_result[df_result[0]==loc_id][1].values[0]]\n",
    "    except: \n",
    "        val = loc_id\n",
    "    return val"
   ]
  },
  {
   "cell_type": "code",
   "execution_count": 405,
   "metadata": {
    "scrolled": false
   },
   "outputs": [
    {
     "name": "stdout",
     "output_type": "stream",
     "text": [
      "[38, 102, 75] 152.0\n"
     ]
    },
    {
     "data": {
      "image/png": "[encoded data removed]",
      "text/plain": [
       "<Figure size 360x432 with 1 Axes>"
      ]
     },
     "metadata": {
      "needs_background": "light"
     },
     "output_type": "display_data"
    },
    {
     "name": "stdout",
     "output_type": "stream",
     "text": [
      "[38, 71, 83] 150.0\n"
     ]
    },
    {
     "data": {
      "image/png": "[encoded data removed]",
      "text/plain": [
       "<Figure size 360x432 with 1 Axes>"
      ]
     },
     "metadata": {
      "needs_background": "light"
     },
     "output_type": "display_data"
    },
    {
     "name": "stdout",
     "output_type": "stream",
     "text": [
      "[7, 38, 83] 148.0\n"
     ]
    },
    {
     "data": {
      "image/png": "[encoded data removed]",
      "text/plain": [
       "<Figure size 360x432 with 1 Axes>"
      ]
     },
     "metadata": {
      "needs_background": "light"
     },
     "output_type": "display_data"
    }
   ],
   "source": [
    "for solutions in best_nodes_list[-3:]:\n",
    "    df_result = plot_best(solutions)"
   ]
  },
  {
   "cell_type": "code",
   "execution_count": 404,
   "metadata": {},
   "outputs": [
    {
     "name": "stdout",
     "output_type": "stream",
     "text": [
      " Dublin 31021\n",
      " Mableton 30126-2353\n",
      " Norcross 30071-3338\n"
     ]
    },
    {
     "data": {
      "text/html": [
       "<div>\n",
       "<style scoped>\n",
       "    .dataframe tbody tr th:only-of-type {\n",
       "        vertical-align: middle;\n",
       "    }\n",
       "\n",
       "    .dataframe tbody tr th {\n",
       "        vertical-align: top;\n",
       "    }\n",
       "\n",
       "    .dataframe thead th {\n",
       "        text-align: right;\n",
       "    }\n",
       "</style>\n",
       "<table border=\"1\" class=\"dataframe\">\n",
       "  <thead>\n",
       "    <tr style=\"text-align: right;\">\n",
       "      <th></th>\n",
       "      <th>Unnamed: 0</th>\n",
       "      <th>lngCouncil</th>\n",
       "      <th>calCouncil</th>\n",
       "      <th>Address</th>\n",
       "      <th>City</th>\n",
       "      <th>State</th>\n",
       "      <th>Zip</th>\n",
       "      <th>Zip5</th>\n",
       "      <th>lat_lon</th>\n",
       "      <th>lat</th>\n",
       "      <th>lon</th>\n",
       "      <th>group</th>\n",
       "    </tr>\n",
       "  </thead>\n",
       "  <tbody>\n",
       "    <tr>\n",
       "      <th>0</th>\n",
       "      <td>0</td>\n",
       "      <td>15996</td>\n",
       "      <td>St. John Paul II Council 15996</td>\n",
       "      <td>6301 Cedarcrest Road</td>\n",
       "      <td>Acworth</td>\n",
       "      <td>GA</td>\n",
       "      <td>30101</td>\n",
       "      <td>30101</td>\n",
       "      <td>(34.0756, -84.6477)</td>\n",
       "      <td>34.0756</td>\n",
       "      <td>-84.6477</td>\n",
       "      <td>28</td>\n",
       "    </tr>\n",
       "    <tr>\n",
       "      <th>1</th>\n",
       "      <td>1</td>\n",
       "      <td>3607</td>\n",
       "      <td>Msgr. Daniel J. Bourke Council 3607</td>\n",
       "      <td>421 Edgewood Lane</td>\n",
       "      <td>Albany</td>\n",
       "      <td>GA</td>\n",
       "      <td>31707-3909</td>\n",
       "      <td>31707</td>\n",
       "      <td>(31.5789, -84.2118)</td>\n",
       "      <td>31.5789</td>\n",
       "      <td>-84.2118</td>\n",
       "      <td>81</td>\n",
       "    </tr>\n",
       "    <tr>\n",
       "      <th>2</th>\n",
       "      <td>2</td>\n",
       "      <td>6532</td>\n",
       "      <td>St. Thomas Aquinas Council 6532</td>\n",
       "      <td>535 Rucker Road</td>\n",
       "      <td>Alpharetta</td>\n",
       "      <td>GA</td>\n",
       "      <td>30004-4048</td>\n",
       "      <td>30004</td>\n",
       "      <td>(34.1124, -84.302)</td>\n",
       "      <td>34.1124</td>\n",
       "      <td>-84.3020</td>\n",
       "      <td>26</td>\n",
       "    </tr>\n",
       "    <tr>\n",
       "      <th>3</th>\n",
       "      <td>3</td>\n",
       "      <td>7113</td>\n",
       "      <td>Americus Council 7113</td>\n",
       "      <td>332 South Lee Street</td>\n",
       "      <td>Americus</td>\n",
       "      <td>GA</td>\n",
       "      <td>31709-3916</td>\n",
       "      <td>31709</td>\n",
       "      <td>(32.0404, -84.2153)</td>\n",
       "      <td>32.0404</td>\n",
       "      <td>-84.2153</td>\n",
       "      <td>81</td>\n",
       "    </tr>\n",
       "    <tr>\n",
       "      <th>4</th>\n",
       "      <td>4</td>\n",
       "      <td>6514</td>\n",
       "      <td>Deacon William P. Lakin Council 6514</td>\n",
       "      <td>958 Epps Bridge Parkway</td>\n",
       "      <td>Athens</td>\n",
       "      <td>GA</td>\n",
       "      <td>30606</td>\n",
       "      <td>30606</td>\n",
       "      <td>(33.9461, -83.41799999999998)</td>\n",
       "      <td>33.9461</td>\n",
       "      <td>-83.4180</td>\n",
       "      <td>26</td>\n",
       "    </tr>\n",
       "  </tbody>\n",
       "</table>\n",
       "</div>"
      ],
      "text/plain": [
       "   Unnamed: 0  lngCouncil                            calCouncil  \\\n",
       "0           0       15996        St. John Paul II Council 15996   \n",
       "1           1        3607   Msgr. Daniel J. Bourke Council 3607   \n",
       "2           2        6532       St. Thomas Aquinas Council 6532   \n",
       "3           3        7113                 Americus Council 7113   \n",
       "4           4        6514  Deacon William P. Lakin Council 6514   \n",
       "\n",
       "                   Address         City State         Zip   Zip5  \\\n",
       "0     6301 Cedarcrest Road      Acworth    GA       30101  30101   \n",
       "1        421 Edgewood Lane       Albany    GA  31707-3909  31707   \n",
       "2          535 Rucker Road   Alpharetta    GA  30004-4048  30004   \n",
       "3     332 South Lee Street     Americus    GA  31709-3916  31709   \n",
       "4  958 Epps Bridge Parkway       Athens    GA       30606  30606   \n",
       "\n",
       "                         lat_lon      lat      lon  group  \n",
       "0            (34.0756, -84.6477)  34.0756 -84.6477     28  \n",
       "1            (31.5789, -84.2118)  31.5789 -84.2118     81  \n",
       "2             (34.1124, -84.302)  34.1124 -84.3020     26  \n",
       "3            (32.0404, -84.2153)  32.0404 -84.2153     81  \n",
       "4  (33.9461, -83.41799999999998)  33.9461 -83.4180     26  "
      ]
     },
     "execution_count": 404,
     "metadata": {},
     "output_type": "execute_result"
    }
   ],
   "source": [
    "for node in best_nodes_list[-2]:\n",
    "    val = df.iloc[node]\n",
    "    print(val['City'], val['Zip'])\n",
    "\n",
    "df['group'] = df['Unnamed: 0'].apply(lambda x: find_group(x, df_result, nodes))\n",
    "df.head(5)"
   ]
  },
  {
   "cell_type": "markdown",
   "metadata": {},
   "source": [
    "## Check 38 as given:"
   ]
  },
  {
   "cell_type": "code",
   "execution_count": 409,
   "metadata": {},
   "outputs": [],
   "source": [
    "def get_nodes(init_nodes):\n",
    "    nodes = []\n",
    "    for x in init_nodes:\n",
    "        nodes.append(x)\n",
    "    points_list = [x for x in range(max(df_dist['p2'])) if x not in init_nodes]\n",
    "    for node in range(3-len(init_nodes)):\n",
    "        choice = random.choice(points_list)\n",
    "        nodes.append(choice)\n",
    "        points_list.remove(choice)\n",
    "    return nodes"
   ]
  },
  {
   "cell_type": "code",
   "execution_count": null,
   "metadata": {},
   "outputs": [],
   "source": [
    "list_38 = []\n",
    "best_result_38 = 1000\n"
   ]
  },
  {
   "cell_type": "code",
   "execution_count": 428,
   "metadata": {},
   "outputs": [],
   "source": [
    "for x in range(100):\n",
    "    nodes = get_nodes([38])\n",
    "    nodes, cost = run_one_node(nodes)\n",
    "    if cost<best_result_38:\n",
    "        best_result_38 = cost\n",
    "        best_nodes = nodes\n",
    "        print(best_result_38, nodes)\n",
    "        list_38.append(nodes)\n",
    "#        plot_best(nodes)"
   ]
  },
  {
   "cell_type": "code",
   "execution_count": 429,
   "metadata": {},
   "outputs": [
    {
     "data": {
      "text/plain": [
       "[[38, 44, 25],\n",
       " [38, 6, 27],\n",
       " [38, 47, 32],\n",
       " [38, 90, 52],\n",
       " [38, 69, 39],\n",
       " [38, 8, 47],\n",
       " [38, 65, 74]]"
      ]
     },
     "execution_count": 429,
     "metadata": {},
     "output_type": "execute_result"
    }
   ],
   "source": [
    "list_38"
   ]
  },
  {
   "cell_type": "markdown",
   "metadata": {},
   "source": [
    "## Changed distance metric to count only times over a certain length"
   ]
  },
  {
   "cell_type": "code",
   "execution_count": 453,
   "metadata": {},
   "outputs": [
    {
     "data": {
      "text/plain": [
       "<matplotlib.axes._subplots.AxesSubplot at 0x247d6f1c320>"
      ]
     },
     "execution_count": 453,
     "metadata": {},
     "output_type": "execute_result"
    },
    {
     "data": {
      "image/png": "[encoded data removed]",
      "text/plain": [
       "<Figure size 360x432 with 1 Axes>"
      ]
     },
     "metadata": {
      "needs_background": "light"
     },
     "output_type": "display_data"
    }
   ],
   "source": [
    "\n",
    "#df_dist['Floored'] = np.maximum(df_dist['Dist']-.75,0)\n",
    "df_dist['Floored'] = df_dist['Dist']**1.5\n",
    "df_dist['Floored'].hist(bins=20,density=True)\n",
    "df_dist['Dist'].hist(bins=20, density=True)"
   ]
  },
  {
   "cell_type": "code",
   "execution_count": 436,
   "metadata": {},
   "outputs": [],
   "source": [
    "def run_one_node_param(nodes = None, param='Dist'):\n",
    "    \n",
    "    if nodes == None:\n",
    "        nodes = []\n",
    "\n",
    "        points_list = [x for x in range(max(df_dist['p2']))]\n",
    "        for node in range(3):\n",
    "            choice = random.choice(points_list)\n",
    "            nodes.append(choice)\n",
    "            points_list.remove(choice)\n",
    "\n",
    "\n",
    "    costs = []\n",
    "    for x in range(max(df_dist['p2'])+1):\n",
    "        if x in nodes:\n",
    "            pass\n",
    "        else:\n",
    "            one_costs = []\n",
    "            for y in nodes:\n",
    "                if len(df_dist[(df_dist['p1']==x)&(df_dist['p2']==y)])==0:\n",
    "                    one_costs.append(df_dist[(df_dist['p1']==y)&(df_dist['p2']==x)][param].values[0])\n",
    "                else:\n",
    "                    one_costs.append(df_dist[(df_dist['p1']==x)&(df_dist['p2']==y)][param].values[0])\n",
    "            costs.append(one_costs)\n",
    "\n",
    "\n",
    "    num_workers = len(costs)\n",
    "    num_tasks = len(costs[0])\n",
    "\n",
    "\n",
    "    # Create the mip solver with the SCIP backend.\n",
    "    solver = pywraplp.Solver.CreateSolver('SCIP')\n",
    "\n",
    "\n",
    "    # x[i, j] is an array of 0-1 variables, which will be 1\n",
    "    # if worker i is assigned to task j.\n",
    "    x = {}\n",
    "    for i in range(num_workers):\n",
    "        for j in range(num_tasks):\n",
    "            x[i, j] = solver.IntVar(0, 1, '')\n",
    "\n",
    "\n",
    "    # Each worker is assigned to at exactly 1 task.\n",
    "    for i in range(num_workers):\n",
    "        solver.Add(solver.Sum([x[i, j] for j in range(num_tasks)]) == 1)\n",
    "\n",
    "    # Each task is assigned to exactly 2 workers. This is a function of total group size\n",
    "    for j in range(num_tasks):\n",
    "        solver.Add(solver.Sum([x[i, j] for i in range(num_workers)]) == num_workers/num_tasks)\n",
    "\n",
    "    objective_terms = []\n",
    "    for i in range(num_workers):\n",
    "        for j in range(num_tasks):\n",
    "            objective_terms.append(costs[i][j] * x[i, j])\n",
    "    solver.Minimize(solver.Sum(objective_terms))\n",
    "    status = solver.Solve()\n",
    "    return nodes, solver.Objective().Value()\n"
   ]
  },
  {
   "cell_type": "code",
   "execution_count": 454,
   "metadata": {},
   "outputs": [],
   "source": [
    "best_nodes_param = []\n",
    "best_result = 1000"
   ]
  },
  {
   "cell_type": "code",
   "execution_count": 463,
   "metadata": {},
   "outputs": [],
   "source": [
    "for x in range(1):\n",
    "    nodes, cost = run_one_node_param(param='Floored')\n",
    "    if cost<best_result:\n",
    "        best_result = cost\n",
    "        best_nodes = nodes\n",
    "        print(best_result, nodes)\n",
    "        best_nodes_param.append(nodes)\n",
    "#        plot_best(nodes)"
   ]
  },
  {
   "cell_type": "code",
   "execution_count": 464,
   "metadata": {
    "scrolled": false
   },
   "outputs": [
    {
     "name": "stdout",
     "output_type": "stream",
     "text": [
      "[110, 55, 74] 175.0\n"
     ]
    },
    {
     "data": {
      "image/png": "[encoded data removed]",
      "text/plain": [
       "<Figure size 360x432 with 1 Axes>"
      ]
     },
     "metadata": {
      "needs_background": "light"
     },
     "output_type": "display_data"
    },
    {
     "name": "stdout",
     "output_type": "stream",
     "text": [
      "[77, 43, 38] 151.0\n"
     ]
    },
    {
     "data": {
      "image/png": "[encoded data removed]",
      "text/plain": [
       "<Figure size 360x432 with 1 Axes>"
      ]
     },
     "metadata": {
      "needs_background": "light"
     },
     "output_type": "display_data"
    }
   ],
   "source": [
    "for solutions in best_nodes_param[1:]:\n",
    "    df_result = plot_best(solutions)"
   ]
  },
  {
   "cell_type": "code",
   "execution_count": 448,
   "metadata": {},
   "outputs": [
    {
     "data": {
      "text/plain": [
       "[[97, 26, 37],\n",
       " [75, 78, 69],\n",
       " [61, 76, 68],\n",
       " [32, 38, 19],\n",
       " [57, 110, 91],\n",
       " [110, 35, 47]]"
      ]
     },
     "execution_count": 448,
     "metadata": {},
     "output_type": "execute_result"
    }
   ],
   "source": [
    "best_nodes_param"
   ]
  }
 ],
 "metadata": {
  "kernelspec": {
   "display_name": "Python 3",
   "language": "python",
   "name": "python3"
  },
  "language_info": {
   "codemirror_mode": {
    "name": "ipython",
    "version": 3
   },
   "file_extension": ".py",
   "mimetype": "text/x-python",
   "name": "python",
   "nbconvert_exporter": "python",
   "pygments_lexer": "ipython3",
   "version": "3.7.3"
  }
 },
 "nbformat": 4,
 "nbformat_minor": 2
}
